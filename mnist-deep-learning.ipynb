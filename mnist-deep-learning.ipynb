{
  "cells": [
    {
      "cell_type": "code",
      "execution_count": 37,
      "metadata": {
        "id": "ZGJnZj0fLtCU"
      },
      "outputs": [],
      "source": [
        "from sklearn.datasets import fetch_openml\n",
        "\n",
        "#mnist = fetch_openml('mnist_784', as_frame=False, cache=False)\n",
        "mnist = fetch_openml('cifar_10', as_frame=False, cache=False)"
      ]
    },
    {
      "cell_type": "code",
      "execution_count": 40,
      "metadata": {
        "id": "BauuSy4zSIWw"
      },
      "outputs": [],
      "source": [
        "X = mnist.data.astype('float32')\n",
        "y = mnist.target.astype('int64')\n",
        "\n",
        "X /= 255"
      ]
    },
    {
      "cell_type": "code",
      "source": [
        "X.shape"
      ],
      "metadata": {
        "colab": {
          "base_uri": "https://localhost:8080/"
        },
        "id": "KjaoKEgVnbD2",
        "outputId": "a2589adb-9398-45d1-e862-b5a7f22aae44"
      },
      "execution_count": 41,
      "outputs": [
        {
          "output_type": "execute_result",
          "data": {
            "text/plain": [
              "(60000, 3072)"
            ]
          },
          "metadata": {},
          "execution_count": 41
        }
      ]
    },
    {
      "cell_type": "code",
      "execution_count": 42,
      "metadata": {
        "id": "XQuFEed-McB8"
      },
      "outputs": [],
      "source": [
        "# Split the data into training and test data\n",
        "from sklearn.model_selection import train_test_split\n",
        "X_train, X_test, y_train, y_test = train_test_split(X, y, test_size=0.05, random_state=42)"
      ]
    },
    {
      "cell_type": "code",
      "execution_count": 43,
      "metadata": {
        "id": "rY5CWPtASO6O"
      },
      "outputs": [],
      "source": [
        "import torch\n",
        "from torch import nn\n",
        "import torch.nn.functional as F\n",
        "\n",
        "device = 'cuda' if torch.cuda.is_available() else 'cpu'"
      ]
    },
    {
      "cell_type": "code",
      "execution_count": 44,
      "metadata": {
        "id": "ex08esqVOSYv"
      },
      "outputs": [],
      "source": [
        "import numpy as np\n",
        "\n",
        "mnist_dim = X.shape[1]\n",
        "hidden_dim = int(mnist_dim/8)\n",
        "output_dim = len(np.unique(mnist.target))"
      ]
    },
    {
      "cell_type": "code",
      "execution_count": 45,
      "metadata": {
        "colab": {
          "base_uri": "https://localhost:8080/"
        },
        "id": "ZRy-UUrjOvki",
        "outputId": "b2ab3528-a8cc-4ba1-80e3-b4ab7bbff1b7"
      },
      "outputs": [
        {
          "output_type": "execute_result",
          "data": {
            "text/plain": [
              "(3072, 384, 10)"
            ]
          },
          "metadata": {},
          "execution_count": 45
        }
      ],
      "source": [
        "mnist_dim, hidden_dim, output_dim"
      ]
    },
    {
      "cell_type": "code",
      "execution_count": 46,
      "metadata": {
        "id": "uB9LvM1eO3dX"
      },
      "outputs": [],
      "source": [
        "class ClassifierModule(nn.Module):\n",
        "    def __init__(\n",
        "            self,\n",
        "            input_dim=mnist_dim,\n",
        "            hidden_dim=hidden_dim,\n",
        "            output_dim=output_dim,\n",
        "            dropout=0.5,\n",
        "    ):\n",
        "        super(ClassifierModule, self).__init__()\n",
        "        self.dropout = nn.Dropout(dropout)\n",
        "\n",
        "        self.hidden = nn.Linear(input_dim, hidden_dim)\n",
        "        self.hidden_2 = nn.Linear(hidden_dim, hidden_dim)\n",
        "        self.output = nn.Linear(hidden_dim, output_dim)\n",
        "\n",
        "    def forward(self, X, **kwargs):\n",
        "        X = F.relu(self.hidden(X))\n",
        "        #X = F.relu(self.hidden_2(X))\n",
        "        #X = F.relu(self.hidden_2(X))\n",
        "        #X = self.dropout(X)\n",
        "        X = F.softmax(self.output(X), dim=-1)\n",
        "        return X"
      ]
    },
    {
      "cell_type": "code",
      "source": [
        "!pip install skorch"
      ],
      "metadata": {
        "colab": {
          "base_uri": "https://localhost:8080/"
        },
        "id": "4m5fbk7Oo1kM",
        "outputId": "bdc6a585-c294-4374-f248-2604c2057653"
      },
      "execution_count": 8,
      "outputs": [
        {
          "output_type": "stream",
          "name": "stdout",
          "text": [
            "Looking in indexes: https://pypi.org/simple, https://us-python.pkg.dev/colab-wheels/public/simple/\n",
            "Collecting skorch\n",
            "  Downloading skorch-0.12.0-py3-none-any.whl (185 kB)\n",
            "\u001b[K     |████████████████████████████████| 185 kB 13.1 MB/s \n",
            "\u001b[?25hRequirement already satisfied: scipy>=1.1.0 in /usr/local/lib/python3.7/dist-packages (from skorch) (1.7.3)\n",
            "Requirement already satisfied: tabulate>=0.7.7 in /usr/local/lib/python3.7/dist-packages (from skorch) (0.8.10)\n",
            "Requirement already satisfied: numpy>=1.13.3 in /usr/local/lib/python3.7/dist-packages (from skorch) (1.21.6)\n",
            "Requirement already satisfied: tqdm>=4.14.0 in /usr/local/lib/python3.7/dist-packages (from skorch) (4.64.1)\n",
            "Requirement already satisfied: scikit-learn>=0.22.0 in /usr/local/lib/python3.7/dist-packages (from skorch) (1.0.2)\n",
            "Requirement already satisfied: threadpoolctl>=2.0.0 in /usr/local/lib/python3.7/dist-packages (from scikit-learn>=0.22.0->skorch) (3.1.0)\n",
            "Requirement already satisfied: joblib>=0.11 in /usr/local/lib/python3.7/dist-packages (from scikit-learn>=0.22.0->skorch) (1.2.0)\n",
            "Installing collected packages: skorch\n",
            "Successfully installed skorch-0.12.0\n"
          ]
        }
      ]
    },
    {
      "cell_type": "code",
      "execution_count": 9,
      "metadata": {
        "id": "_xZy-MP6PlnT"
      },
      "outputs": [],
      "source": [
        "from skorch import NeuralNetClassifier"
      ]
    },
    {
      "cell_type": "code",
      "execution_count": 47,
      "metadata": {
        "id": "bPKWegNvQXvg"
      },
      "outputs": [],
      "source": [
        "torch.manual_seed(0)\n",
        "\n",
        "net = NeuralNetClassifier(\n",
        "    ClassifierModule,\n",
        "    max_epochs=20,\n",
        "    lr=0.1,\n",
        "    device=device,\n",
        ")"
      ]
    },
    {
      "cell_type": "code",
      "execution_count": 48,
      "metadata": {
        "colab": {
          "base_uri": "https://localhost:8080/"
        },
        "id": "RmFlNCXVUZy5",
        "outputId": "552b3929-7bae-4c9b-d173-ff6c3cd69f80"
      },
      "outputs": [
        {
          "output_type": "stream",
          "name": "stdout",
          "text": [
            "  epoch    train_loss    valid_acc    valid_loss     dur\n",
            "-------  ------------  -----------  ------------  ------\n",
            "      1        \u001b[36m1.9857\u001b[0m       \u001b[32m0.3227\u001b[0m        \u001b[35m1.8556\u001b[0m  1.2304\n",
            "      2        \u001b[36m1.8182\u001b[0m       \u001b[32m0.3475\u001b[0m        \u001b[35m1.7958\u001b[0m  1.2705\n",
            "      3        \u001b[36m1.7520\u001b[0m       \u001b[32m0.3828\u001b[0m        \u001b[35m1.7246\u001b[0m  1.2561\n",
            "      4        \u001b[36m1.7025\u001b[0m       \u001b[32m0.4079\u001b[0m        \u001b[35m1.6656\u001b[0m  1.2522\n",
            "      5        \u001b[36m1.6545\u001b[0m       \u001b[32m0.4112\u001b[0m        \u001b[35m1.6608\u001b[0m  1.2202\n",
            "      6        \u001b[36m1.6147\u001b[0m       \u001b[32m0.4139\u001b[0m        \u001b[35m1.6483\u001b[0m  1.2440\n",
            "      7        \u001b[36m1.5850\u001b[0m       0.4132        \u001b[35m1.6462\u001b[0m  1.2773\n",
            "      8        \u001b[36m1.5519\u001b[0m       \u001b[32m0.4199\u001b[0m        \u001b[35m1.6245\u001b[0m  1.2491\n",
            "      9        \u001b[36m1.5236\u001b[0m       \u001b[32m0.4266\u001b[0m        \u001b[35m1.6156\u001b[0m  1.2858\n",
            "     10        \u001b[36m1.5008\u001b[0m       \u001b[32m0.4351\u001b[0m        \u001b[35m1.5919\u001b[0m  1.2701\n",
            "     11        \u001b[36m1.4791\u001b[0m       0.4340        \u001b[35m1.5883\u001b[0m  1.2768\n",
            "     12        \u001b[36m1.4625\u001b[0m       \u001b[32m0.4366\u001b[0m        \u001b[35m1.5852\u001b[0m  1.2923\n",
            "     13        \u001b[36m1.4414\u001b[0m       \u001b[32m0.4369\u001b[0m        1.5943  1.2840\n",
            "     14        \u001b[36m1.4242\u001b[0m       \u001b[32m0.4398\u001b[0m        1.5969  1.3025\n",
            "     15        \u001b[36m1.4079\u001b[0m       \u001b[32m0.4492\u001b[0m        \u001b[35m1.5717\u001b[0m  1.3112\n",
            "     16        \u001b[36m1.3903\u001b[0m       0.4468        1.5851  1.2766\n",
            "     17        \u001b[36m1.3767\u001b[0m       0.4474        1.5771  1.2727\n",
            "     18        \u001b[36m1.3641\u001b[0m       \u001b[32m0.4527\u001b[0m        \u001b[35m1.5595\u001b[0m  1.2710\n",
            "     19        \u001b[36m1.3481\u001b[0m       \u001b[32m0.4682\u001b[0m        \u001b[35m1.5151\u001b[0m  1.2253\n",
            "     20        \u001b[36m1.3337\u001b[0m       \u001b[32m0.4780\u001b[0m        \u001b[35m1.4905\u001b[0m  1.2975\n"
          ]
        },
        {
          "output_type": "execute_result",
          "data": {
            "text/plain": [
              "<class 'skorch.classifier.NeuralNetClassifier'>[initialized](\n",
              "  module_=ClassifierModule(\n",
              "    (dropout): Dropout(p=0.5, inplace=False)\n",
              "    (hidden): Linear(in_features=3072, out_features=384, bias=True)\n",
              "    (hidden_2): Linear(in_features=384, out_features=384, bias=True)\n",
              "    (output): Linear(in_features=384, out_features=10, bias=True)\n",
              "  ),\n",
              ")"
            ]
          },
          "metadata": {},
          "execution_count": 48
        }
      ],
      "source": [
        "net.fit(X_train, y_train)"
      ]
    },
    {
      "cell_type": "code",
      "execution_count": 49,
      "metadata": {
        "colab": {
          "base_uri": "https://localhost:8080/"
        },
        "id": "D4BHrTiEUcMJ",
        "outputId": "8bbc3ea0-2392-4f50-fb19-8e1e3a7312b4"
      },
      "outputs": [
        {
          "output_type": "stream",
          "name": "stdout",
          "text": [
            "Accuracy = 49.46666666666666 %\n",
            "Classification Report \n",
            "               precision    recall  f1-score   support\n",
            "\n",
            "           0       0.51      0.74      0.60       312\n",
            "           1       0.65      0.67      0.66       310\n",
            "           2       0.37      0.33      0.35       310\n",
            "           3       0.41      0.29      0.34       313\n",
            "           4       0.36      0.49      0.42       260\n",
            "           5       0.35      0.50      0.41       274\n",
            "           6       0.55      0.47      0.51       297\n",
            "           7       0.66      0.45      0.53       322\n",
            "           8       0.81      0.41      0.54       318\n",
            "           9       0.50      0.62      0.55       284\n",
            "\n",
            "    accuracy                           0.49      3000\n",
            "   macro avg       0.52      0.50      0.49      3000\n",
            "weighted avg       0.52      0.49      0.49      3000\n",
            "\n"
          ]
        }
      ],
      "source": [
        "y_predicted = net.predict(X_test)\n",
        "# Calculate the accuracy of the prediction\n",
        "from sklearn.metrics import accuracy_score\n",
        "print(\"Accuracy = {} %\".format(accuracy_score(y_test, y_predicted)*100))\n",
        "# Cross validate the scores\n",
        "from sklearn.metrics import classification_report\n",
        "print(\"Classification Report \\n {}\".format(classification_report(y_test, y_predicted, labels=range(0,10))))"
      ]
    },
    {
      "cell_type": "code",
      "source": [
        "X.shape"
      ],
      "metadata": {
        "colab": {
          "base_uri": "https://localhost:8080/"
        },
        "id": "HqmIuWNloChR",
        "outputId": "bb59cb9f-f6e7-4eef-e5a0-2ee0bb21efb8"
      },
      "execution_count": 51,
      "outputs": [
        {
          "output_type": "execute_result",
          "data": {
            "text/plain": [
              "(60000, 3072)"
            ]
          },
          "metadata": {},
          "execution_count": 51
        }
      ]
    },
    {
      "cell_type": "code",
      "execution_count": 53,
      "metadata": {
        "id": "WJfQpp_WU3kK",
        "colab": {
          "base_uri": "https://localhost:8080/"
        },
        "outputId": "79147f2e-2e99-44a0-fc5b-d8e12c00e695"
      },
      "outputs": [
        {
          "output_type": "execute_result",
          "data": {
            "text/plain": [
              "(60000, 3, 32, 32)"
            ]
          },
          "metadata": {},
          "execution_count": 53
        }
      ],
      "source": [
        "#XCnn = X.reshape(-1, 1, 28, 28)\n",
        "XCnn = X.reshape(-1, 3, 32, 32)\n",
        "\n",
        "XCnn.shape"
      ]
    },
    {
      "cell_type": "code",
      "execution_count": 54,
      "metadata": {
        "id": "GdMstC8bbiAX"
      },
      "outputs": [],
      "source": [
        "XCnn_train, XCnn_test, y_train, y_test = train_test_split(XCnn, y, test_size=0.25, random_state=42)"
      ]
    },
    {
      "cell_type": "code",
      "execution_count": 55,
      "metadata": {
        "colab": {
          "base_uri": "https://localhost:8080/"
        },
        "id": "fet5G-vgdYYC",
        "outputId": "a27acbd0-3cda-4c38-9c68-49a27be9d17c"
      },
      "outputs": [
        {
          "output_type": "execute_result",
          "data": {
            "text/plain": [
              "((45000, 3, 32, 32), (45000,))"
            ]
          },
          "metadata": {},
          "execution_count": 55
        }
      ],
      "source": [
        "XCnn_train.shape, y_train.shape"
      ]
    },
    {
      "cell_type": "code",
      "execution_count": 59,
      "metadata": {
        "id": "_NRPKsODcrV2"
      },
      "outputs": [],
      "source": [
        "class Cnn(nn.Module):\n",
        "    def __init__(self, dropout=0.5):\n",
        "        super(Cnn, self).__init__()\n",
        "        self.conv1 = nn.Conv2d(1, 32, kernel_size=3)\n",
        "        self.conv2 = nn.Conv2d(32, 64, kernel_size=3)\n",
        "        self.conv2_drop = nn.Dropout2d(p=dropout)\n",
        "        self.fc1 = nn.Linear(1600, 100) # 1600 = number channels * width * height\n",
        "        self.fc2 = nn.Linear(100, 10)\n",
        "        self.fc1_drop = nn.Dropout(p=dropout)\n",
        "\n",
        "    def forward(self, x):\n",
        "        x = torch.relu(F.max_pool2d(self.conv1(x), 2))\n",
        "        x = torch.relu(F.max_pool2d(self.conv2_drop(self.conv2(x)), 2))\n",
        "        \n",
        "        # flatten over channel, height and width = 1600\n",
        "        x = x.view(-1, x.size(1) * x.size(2) * x.size(3))\n",
        "        \n",
        "        x = torch.relu(self.fc1_drop(self.fc1(x)))\n",
        "        x = torch.softmax(self.fc2(x), dim=-1)\n",
        "        return x"
      ]
    },
    {
      "cell_type": "code",
      "source": [
        "class Cnn(nn.Module):\n",
        "    def __init__(self, dropout=0.5):\n",
        "        super(Cnn, self).__init__()\n",
        "        self.conv1 = nn.Conv2d(3, 6, 5)\n",
        "        self.pool = nn.MaxPool2d(2, 2)\n",
        "        self.conv2 = nn.Conv2d(6, 16, 5)\n",
        "        self.fc1 = nn.Linear(16 * 5 * 5, 120)\n",
        "        self.fc2 = nn.Linear(120, 84)\n",
        "        self.fc3 = nn.Linear(84, 10)\n",
        "\n",
        "    def forward(self, x):\n",
        "        x = self.pool(F.relu(self.conv1(x)))\n",
        "        x = self.pool(F.relu(self.conv2(x)))\n",
        "        x = x.view(-1, 16 * 5 * 5)\n",
        "        x = F.relu(self.fc1(x))\n",
        "        x = F.relu(self.fc2(x))\n",
        "        x = F.softmax(self.fc3(x))\n",
        "        return x"
      ],
      "metadata": {
        "id": "1PhQG4ZvrOA6"
      },
      "execution_count": 65,
      "outputs": []
    },
    {
      "cell_type": "code",
      "execution_count": 66,
      "metadata": {
        "id": "W8iCagOKdD79"
      },
      "outputs": [],
      "source": [
        "torch.manual_seed(0)\n",
        "\n",
        "cnn = NeuralNetClassifier(\n",
        "    Cnn,\n",
        "    max_epochs=10,\n",
        "    lr=0.002,\n",
        "    optimizer=torch.optim.Adam,\n",
        "    device=device,\n",
        ")"
      ]
    },
    {
      "cell_type": "code",
      "execution_count": 67,
      "metadata": {
        "colab": {
          "base_uri": "https://localhost:8080/"
        },
        "id": "h4VjkjJae9EP",
        "outputId": "f0c85a51-a3d8-431e-e811-9ae69d4ed52f"
      },
      "outputs": [
        {
          "output_type": "stream",
          "name": "stderr",
          "text": [
            "/usr/local/lib/python3.7/dist-packages/ipykernel_launcher.py:17: UserWarning: Implicit dimension choice for softmax has been deprecated. Change the call to include dim=X as an argument.\n"
          ]
        },
        {
          "output_type": "stream",
          "name": "stdout",
          "text": [
            "  epoch    train_loss    valid_acc    valid_loss     dur\n",
            "-------  ------------  -----------  ------------  ------\n",
            "      1        \u001b[36m1.9926\u001b[0m       \u001b[32m0.3682\u001b[0m        \u001b[35m1.7121\u001b[0m  1.5150\n"
          ]
        },
        {
          "output_type": "stream",
          "name": "stderr",
          "text": [
            "/usr/local/lib/python3.7/dist-packages/ipykernel_launcher.py:17: UserWarning: Implicit dimension choice for softmax has been deprecated. Change the call to include dim=X as an argument.\n"
          ]
        },
        {
          "output_type": "stream",
          "name": "stdout",
          "text": [
            "      2        \u001b[36m1.5973\u001b[0m       \u001b[32m0.4627\u001b[0m        \u001b[35m1.4931\u001b[0m  1.5218\n"
          ]
        },
        {
          "output_type": "stream",
          "name": "stderr",
          "text": [
            "/usr/local/lib/python3.7/dist-packages/ipykernel_launcher.py:17: UserWarning: Implicit dimension choice for softmax has been deprecated. Change the call to include dim=X as an argument.\n"
          ]
        },
        {
          "output_type": "stream",
          "name": "stdout",
          "text": [
            "      3        \u001b[36m1.4663\u001b[0m       \u001b[32m0.4937\u001b[0m        \u001b[35m1.4175\u001b[0m  1.4845\n"
          ]
        },
        {
          "output_type": "stream",
          "name": "stderr",
          "text": [
            "/usr/local/lib/python3.7/dist-packages/ipykernel_launcher.py:17: UserWarning: Implicit dimension choice for softmax has been deprecated. Change the call to include dim=X as an argument.\n"
          ]
        },
        {
          "output_type": "stream",
          "name": "stdout",
          "text": [
            "      4        \u001b[36m1.3953\u001b[0m       \u001b[32m0.5164\u001b[0m        \u001b[35m1.3656\u001b[0m  1.4705\n"
          ]
        },
        {
          "output_type": "stream",
          "name": "stderr",
          "text": [
            "/usr/local/lib/python3.7/dist-packages/ipykernel_launcher.py:17: UserWarning: Implicit dimension choice for softmax has been deprecated. Change the call to include dim=X as an argument.\n"
          ]
        },
        {
          "output_type": "stream",
          "name": "stdout",
          "text": [
            "      5        \u001b[36m1.3408\u001b[0m       \u001b[32m0.5308\u001b[0m        \u001b[35m1.3313\u001b[0m  1.4816\n"
          ]
        },
        {
          "output_type": "stream",
          "name": "stderr",
          "text": [
            "/usr/local/lib/python3.7/dist-packages/ipykernel_launcher.py:17: UserWarning: Implicit dimension choice for softmax has been deprecated. Change the call to include dim=X as an argument.\n"
          ]
        },
        {
          "output_type": "stream",
          "name": "stdout",
          "text": [
            "      6        \u001b[36m1.2901\u001b[0m       \u001b[32m0.5367\u001b[0m        \u001b[35m1.3080\u001b[0m  1.4643\n"
          ]
        },
        {
          "output_type": "stream",
          "name": "stderr",
          "text": [
            "/usr/local/lib/python3.7/dist-packages/ipykernel_launcher.py:17: UserWarning: Implicit dimension choice for softmax has been deprecated. Change the call to include dim=X as an argument.\n"
          ]
        },
        {
          "output_type": "stream",
          "name": "stdout",
          "text": [
            "      7        \u001b[36m1.2475\u001b[0m       \u001b[32m0.5479\u001b[0m        \u001b[35m1.2681\u001b[0m  1.4782\n"
          ]
        },
        {
          "output_type": "stream",
          "name": "stderr",
          "text": [
            "/usr/local/lib/python3.7/dist-packages/ipykernel_launcher.py:17: UserWarning: Implicit dimension choice for softmax has been deprecated. Change the call to include dim=X as an argument.\n"
          ]
        },
        {
          "output_type": "stream",
          "name": "stdout",
          "text": [
            "      8        \u001b[36m1.2088\u001b[0m       0.5464        \u001b[35m1.2591\u001b[0m  1.4697\n"
          ]
        },
        {
          "output_type": "stream",
          "name": "stderr",
          "text": [
            "/usr/local/lib/python3.7/dist-packages/ipykernel_launcher.py:17: UserWarning: Implicit dimension choice for softmax has been deprecated. Change the call to include dim=X as an argument.\n"
          ]
        },
        {
          "output_type": "stream",
          "name": "stdout",
          "text": [
            "      9        \u001b[36m1.1836\u001b[0m       0.5446        1.2653  1.4677\n"
          ]
        },
        {
          "output_type": "stream",
          "name": "stderr",
          "text": [
            "/usr/local/lib/python3.7/dist-packages/ipykernel_launcher.py:17: UserWarning: Implicit dimension choice for softmax has been deprecated. Change the call to include dim=X as an argument.\n"
          ]
        },
        {
          "output_type": "stream",
          "name": "stdout",
          "text": [
            "     10        \u001b[36m1.1586\u001b[0m       0.5438        1.2762  1.4985\n"
          ]
        },
        {
          "output_type": "execute_result",
          "data": {
            "text/plain": [
              "<class 'skorch.classifier.NeuralNetClassifier'>[initialized](\n",
              "  module_=Cnn(\n",
              "    (conv1): Conv2d(3, 6, kernel_size=(5, 5), stride=(1, 1))\n",
              "    (pool): MaxPool2d(kernel_size=2, stride=2, padding=0, dilation=1, ceil_mode=False)\n",
              "    (conv2): Conv2d(6, 16, kernel_size=(5, 5), stride=(1, 1))\n",
              "    (fc1): Linear(in_features=400, out_features=120, bias=True)\n",
              "    (fc2): Linear(in_features=120, out_features=84, bias=True)\n",
              "    (fc3): Linear(in_features=84, out_features=10, bias=True)\n",
              "  ),\n",
              ")"
            ]
          },
          "metadata": {},
          "execution_count": 67
        }
      ],
      "source": [
        "cnn.fit(XCnn_train, y_train)"
      ]
    },
    {
      "cell_type": "code",
      "execution_count": 19,
      "metadata": {
        "id": "i1srM1rjlav7",
        "colab": {
          "base_uri": "https://localhost:8080/"
        },
        "outputId": "6cfd5eb6-a950-49c7-99af-6ab084cd7118"
      },
      "outputs": [
        {
          "output_type": "stream",
          "name": "stdout",
          "text": [
            "Accuracy = 98.66285714285713 %\n",
            "Classification Report \n",
            "               precision    recall  f1-score   support\n",
            "\n",
            "           0       0.99      0.99      0.99      1714\n",
            "           1       0.99      1.00      0.99      1977\n",
            "           2       0.97      0.99      0.98      1761\n",
            "           3       1.00      0.98      0.99      1806\n",
            "           4       0.98      0.99      0.99      1587\n",
            "           5       0.99      0.99      0.99      1607\n",
            "           6       0.99      0.99      0.99      1761\n",
            "           7       0.99      0.98      0.98      1878\n",
            "           8       0.98      0.98      0.98      1657\n",
            "           9       0.99      0.97      0.98      1752\n",
            "\n",
            "    accuracy                           0.99     17500\n",
            "   macro avg       0.99      0.99      0.99     17500\n",
            "weighted avg       0.99      0.99      0.99     17500\n",
            "\n"
          ]
        }
      ],
      "source": [
        "y_predicted_cnn = cnn.predict(XCnn_test)\n",
        "# Calculate the accuracy of the prediction\n",
        "from sklearn.metrics import accuracy_score\n",
        "print(\"Accuracy = {} %\".format(accuracy_score(y_test, y_predicted_cnn)*100))\n",
        "# Cross validate the scores\n",
        "from sklearn.metrics import classification_report\n",
        "print(\"Classification Report \\n {}\".format(classification_report(y_test, y_predicted_cnn, labels=range(0,10))))"
      ]
    },
    {
      "cell_type": "code",
      "source": [],
      "metadata": {
        "id": "JOwbrZ0mqQwD"
      },
      "execution_count": 19,
      "outputs": []
    }
  ],
  "metadata": {
    "accelerator": "GPU",
    "colab": {
      "collapsed_sections": [],
      "name": "mnist.ipynb",
      "provenance": []
    },
    "kernelspec": {
      "display_name": "Python 3 (ipykernel)",
      "language": "python",
      "name": "python3"
    },
    "language_info": {
      "codemirror_mode": {
        "name": "ipython",
        "version": 3
      },
      "file_extension": ".py",
      "mimetype": "text/x-python",
      "name": "python",
      "nbconvert_exporter": "python",
      "pygments_lexer": "ipython3",
      "version": "3.9.13"
    },
    "gpuClass": "standard"
  },
  "nbformat": 4,
  "nbformat_minor": 0
}