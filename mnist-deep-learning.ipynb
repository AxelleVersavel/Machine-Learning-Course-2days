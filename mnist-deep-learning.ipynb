{
  "cells": [
    {
      "cell_type": "code",
      "execution_count": 1,
      "metadata": {
        "id": "ZGJnZj0fLtCU"
      },
      "outputs": [],
      "source": [
        "from sklearn.datasets import fetch_openml\n",
        "\n",
        "mnist = fetch_openml('mnist_784', as_frame=False, cache=False)"
      ]
    },
    {
      "cell_type": "code",
      "execution_count": 2,
      "metadata": {
        "id": "BauuSy4zSIWw"
      },
      "outputs": [],
      "source": [
        "X = mnist.data.astype('float32')\n",
        "y = mnist.target.astype('int64')\n",
        "\n",
        "X /= 255"
      ]
    },
    {
      "cell_type": "code",
      "execution_count": 3,
      "metadata": {
        "id": "XQuFEed-McB8"
      },
      "outputs": [],
      "source": [
        "# Split the data into training and test data\n",
        "from sklearn.model_selection import train_test_split\n",
        "X_train, X_test, y_train, y_test = train_test_split(X, y, test_size=0.05, random_state=42)"
      ]
    },
    {
      "cell_type": "code",
      "execution_count": 4,
      "metadata": {
        "id": "rY5CWPtASO6O"
      },
      "outputs": [],
      "source": [
        "import torch\n",
        "from torch import nn\n",
        "import torch.nn.functional as F\n",
        "\n",
        "device = 'cuda' if torch.cuda.is_available() else 'cpu'"
      ]
    },
    {
      "cell_type": "code",
      "execution_count": 6,
      "metadata": {
        "id": "ex08esqVOSYv"
      },
      "outputs": [],
      "source": [
        "import numpy as np\n",
        "\n",
        "mnist_dim = X.shape[1]\n",
        "hidden_dim = int(mnist_dim/8)\n",
        "output_dim = len(np.unique(mnist.target))"
      ]
    },
    {
      "cell_type": "code",
      "execution_count": 7,
      "metadata": {
        "colab": {
          "base_uri": "https://localhost:8080/"
        },
        "id": "ZRy-UUrjOvki",
        "outputId": "4a7906ae-d604-4294-ead9-70456a46ba8d"
      },
      "outputs": [
        {
          "output_type": "execute_result",
          "data": {
            "text/plain": [
              "(784, 98, 10)"
            ]
          },
          "metadata": {},
          "execution_count": 7
        }
      ],
      "source": [
        "mnist_dim, hidden_dim, output_dim"
      ]
    },
    {
      "cell_type": "code",
      "execution_count": 8,
      "metadata": {
        "id": "uB9LvM1eO3dX"
      },
      "outputs": [],
      "source": [
        "class ClassifierModule(nn.Module):\n",
        "    def __init__(\n",
        "            self,\n",
        "            input_dim=mnist_dim,\n",
        "            hidden_dim=hidden_dim,\n",
        "            output_dim=output_dim,\n",
        "            dropout=0.5,\n",
        "    ):\n",
        "        super(ClassifierModule, self).__init__()\n",
        "        self.dropout = nn.Dropout(dropout)\n",
        "\n",
        "        self.hidden = nn.Linear(input_dim, hidden_dim)\n",
        "        self.output = nn.Linear(hidden_dim, output_dim)\n",
        "\n",
        "    def forward(self, X, **kwargs):\n",
        "        X = F.relu(self.hidden(X))\n",
        "        X = self.dropout(X)\n",
        "        X = F.softmax(self.output(X), dim=-1)\n",
        "        return X"
      ]
    },
    {
      "cell_type": "code",
      "source": [
        "!pip install skorch"
      ],
      "metadata": {
        "colab": {
          "base_uri": "https://localhost:8080/"
        },
        "id": "4m5fbk7Oo1kM",
        "outputId": "f19b5d69-a8cf-4d76-b6de-b246279e2bea"
      },
      "execution_count": 10,
      "outputs": [
        {
          "output_type": "stream",
          "name": "stdout",
          "text": [
            "Looking in indexes: https://pypi.org/simple, https://us-python.pkg.dev/colab-wheels/public/simple/\n",
            "Collecting skorch\n",
            "  Downloading skorch-0.12.0-py3-none-any.whl (185 kB)\n",
            "\u001b[K     |████████████████████████████████| 185 kB 14.1 MB/s \n",
            "\u001b[?25hRequirement already satisfied: scikit-learn>=0.22.0 in /usr/local/lib/python3.7/dist-packages (from skorch) (1.0.2)\n",
            "Requirement already satisfied: tabulate>=0.7.7 in /usr/local/lib/python3.7/dist-packages (from skorch) (0.8.10)\n",
            "Requirement already satisfied: numpy>=1.13.3 in /usr/local/lib/python3.7/dist-packages (from skorch) (1.21.6)\n",
            "Requirement already satisfied: tqdm>=4.14.0 in /usr/local/lib/python3.7/dist-packages (from skorch) (4.64.1)\n",
            "Requirement already satisfied: scipy>=1.1.0 in /usr/local/lib/python3.7/dist-packages (from skorch) (1.7.3)\n",
            "Requirement already satisfied: threadpoolctl>=2.0.0 in /usr/local/lib/python3.7/dist-packages (from scikit-learn>=0.22.0->skorch) (3.1.0)\n",
            "Requirement already satisfied: joblib>=0.11 in /usr/local/lib/python3.7/dist-packages (from scikit-learn>=0.22.0->skorch) (1.2.0)\n",
            "Installing collected packages: skorch\n",
            "Successfully installed skorch-0.12.0\n"
          ]
        }
      ]
    },
    {
      "cell_type": "code",
      "execution_count": 11,
      "metadata": {
        "id": "_xZy-MP6PlnT"
      },
      "outputs": [],
      "source": [
        "from skorch import NeuralNetClassifier"
      ]
    },
    {
      "cell_type": "code",
      "execution_count": 12,
      "metadata": {
        "id": "bPKWegNvQXvg"
      },
      "outputs": [],
      "source": [
        "torch.manual_seed(0)\n",
        "\n",
        "net = NeuralNetClassifier(\n",
        "    ClassifierModule,\n",
        "    max_epochs=20,\n",
        "    lr=0.1,\n",
        "    device=device,\n",
        ")"
      ]
    },
    {
      "cell_type": "code",
      "execution_count": 13,
      "metadata": {
        "colab": {
          "base_uri": "https://localhost:8080/"
        },
        "id": "RmFlNCXVUZy5",
        "outputId": "6627035d-4bcd-47ef-9e1f-cc91593df9af"
      },
      "outputs": [
        {
          "output_type": "stream",
          "name": "stdout",
          "text": [
            "  epoch    train_loss    valid_acc    valid_loss     dur\n",
            "-------  ------------  -----------  ------------  ------\n",
            "      1        \u001b[36m0.7541\u001b[0m       \u001b[32m0.9033\u001b[0m        \u001b[35m0.3506\u001b[0m  3.4516\n",
            "      2        \u001b[36m0.4041\u001b[0m       \u001b[32m0.9218\u001b[0m        \u001b[35m0.2732\u001b[0m  1.1447\n",
            "      3        \u001b[36m0.3367\u001b[0m       \u001b[32m0.9332\u001b[0m        \u001b[35m0.2362\u001b[0m  1.1315\n",
            "      4        \u001b[36m0.3015\u001b[0m       \u001b[32m0.9405\u001b[0m        \u001b[35m0.2089\u001b[0m  1.1368\n",
            "      5        \u001b[36m0.2732\u001b[0m       \u001b[32m0.9446\u001b[0m        \u001b[35m0.1905\u001b[0m  1.1416\n",
            "      6        \u001b[36m0.2544\u001b[0m       \u001b[32m0.9489\u001b[0m        \u001b[35m0.1786\u001b[0m  1.1011\n",
            "      7        \u001b[36m0.2431\u001b[0m       \u001b[32m0.9523\u001b[0m        \u001b[35m0.1683\u001b[0m  1.1324\n",
            "      8        \u001b[36m0.2298\u001b[0m       \u001b[32m0.9547\u001b[0m        \u001b[35m0.1585\u001b[0m  1.1253\n",
            "      9        \u001b[36m0.2171\u001b[0m       \u001b[32m0.9562\u001b[0m        \u001b[35m0.1527\u001b[0m  1.1519\n",
            "     10        \u001b[36m0.2106\u001b[0m       \u001b[32m0.9572\u001b[0m        \u001b[35m0.1464\u001b[0m  1.1333\n",
            "     11        \u001b[36m0.2031\u001b[0m       \u001b[32m0.9608\u001b[0m        \u001b[35m0.1394\u001b[0m  1.1227\n",
            "     12        \u001b[36m0.1966\u001b[0m       \u001b[32m0.9623\u001b[0m        \u001b[35m0.1355\u001b[0m  1.1373\n",
            "     13        \u001b[36m0.1957\u001b[0m       0.9617        \u001b[35m0.1324\u001b[0m  1.1579\n",
            "     14        \u001b[36m0.1897\u001b[0m       \u001b[32m0.9634\u001b[0m        \u001b[35m0.1294\u001b[0m  1.1523\n",
            "     15        \u001b[36m0.1815\u001b[0m       \u001b[32m0.9638\u001b[0m        \u001b[35m0.1258\u001b[0m  1.1353\n",
            "     16        \u001b[36m0.1783\u001b[0m       \u001b[32m0.9652\u001b[0m        \u001b[35m0.1220\u001b[0m  1.1468\n",
            "     17        \u001b[36m0.1752\u001b[0m       0.9643        \u001b[35m0.1215\u001b[0m  1.2009\n",
            "     18        \u001b[36m0.1715\u001b[0m       \u001b[32m0.9659\u001b[0m        \u001b[35m0.1182\u001b[0m  1.1507\n",
            "     19        \u001b[36m0.1673\u001b[0m       \u001b[32m0.9664\u001b[0m        \u001b[35m0.1161\u001b[0m  1.1401\n",
            "     20        \u001b[36m0.1630\u001b[0m       \u001b[32m0.9676\u001b[0m        \u001b[35m0.1139\u001b[0m  1.1493\n"
          ]
        },
        {
          "output_type": "execute_result",
          "data": {
            "text/plain": [
              "<class 'skorch.classifier.NeuralNetClassifier'>[initialized](\n",
              "  module_=ClassifierModule(\n",
              "    (dropout): Dropout(p=0.5, inplace=False)\n",
              "    (hidden): Linear(in_features=784, out_features=98, bias=True)\n",
              "    (output): Linear(in_features=98, out_features=10, bias=True)\n",
              "  ),\n",
              ")"
            ]
          },
          "metadata": {},
          "execution_count": 13
        }
      ],
      "source": [
        "net.fit(X_train, y_train)"
      ]
    },
    {
      "cell_type": "code",
      "execution_count": 14,
      "metadata": {
        "colab": {
          "base_uri": "https://localhost:8080/"
        },
        "id": "D4BHrTiEUcMJ",
        "outputId": "4d81a10c-14ec-47fa-f12d-71290188399b"
      },
      "outputs": [
        {
          "output_type": "stream",
          "name": "stdout",
          "text": [
            "Accuracy = 96.48571428571428 %\n",
            "Classification Report \n",
            "               precision    recall  f1-score   support\n",
            "\n",
            "           0       0.98      0.98      0.98       346\n",
            "           1       0.97      0.98      0.98       378\n",
            "           2       0.94      0.97      0.95       332\n",
            "           3       0.97      0.95      0.96       400\n",
            "           4       0.96      0.97      0.96       295\n",
            "           5       0.96      0.98      0.97       335\n",
            "           6       0.96      0.98      0.97       351\n",
            "           7       0.97      0.96      0.96       362\n",
            "           8       0.96      0.95      0.96       348\n",
            "           9       0.97      0.95      0.96       353\n",
            "\n",
            "    accuracy                           0.96      3500\n",
            "   macro avg       0.96      0.97      0.96      3500\n",
            "weighted avg       0.96      0.96      0.96      3500\n",
            "\n"
          ]
        }
      ],
      "source": [
        "y_predicted = net.predict(X_test)\n",
        "# Calculate the accuracy of the prediction\n",
        "from sklearn.metrics import accuracy_score\n",
        "print(\"Accuracy = {} %\".format(accuracy_score(y_test, y_predicted)*100))\n",
        "# Cross validate the scores\n",
        "from sklearn.metrics import classification_report\n",
        "print(\"Classification Report \\n {}\".format(classification_report(y_test, y_predicted, labels=range(0,10))))"
      ]
    },
    {
      "cell_type": "code",
      "execution_count": 15,
      "metadata": {
        "id": "WJfQpp_WU3kK",
        "colab": {
          "base_uri": "https://localhost:8080/"
        },
        "outputId": "7f7cfa42-ea70-485c-df56-9e18dcae03a4"
      },
      "outputs": [
        {
          "output_type": "execute_result",
          "data": {
            "text/plain": [
              "(70000, 1, 28, 28)"
            ]
          },
          "metadata": {},
          "execution_count": 15
        }
      ],
      "source": [
        "XCnn = X.reshape(-1, 1, 28, 28)\n",
        "\n",
        "XCnn.shape"
      ]
    },
    {
      "cell_type": "code",
      "execution_count": 16,
      "metadata": {
        "id": "GdMstC8bbiAX"
      },
      "outputs": [],
      "source": [
        "XCnn_train, XCnn_test, y_train, y_test = train_test_split(XCnn, y, test_size=0.25, random_state=42)"
      ]
    },
    {
      "cell_type": "code",
      "execution_count": 17,
      "metadata": {
        "colab": {
          "base_uri": "https://localhost:8080/"
        },
        "id": "fet5G-vgdYYC",
        "outputId": "2afd6df2-1425-4680-bf9a-53d7084e5f67"
      },
      "outputs": [
        {
          "output_type": "execute_result",
          "data": {
            "text/plain": [
              "((52500, 1, 28, 28), (52500,))"
            ]
          },
          "metadata": {},
          "execution_count": 17
        }
      ],
      "source": [
        "XCnn_train.shape, y_train.shape"
      ]
    },
    {
      "cell_type": "code",
      "execution_count": 18,
      "metadata": {
        "id": "_NRPKsODcrV2"
      },
      "outputs": [],
      "source": [
        "class Cnn(nn.Module):\n",
        "    def __init__(self, dropout=0.5):\n",
        "        super(Cnn, self).__init__()\n",
        "        self.conv1 = nn.Conv2d(1, 32, kernel_size=3)\n",
        "        self.conv2 = nn.Conv2d(32, 64, kernel_size=3)\n",
        "        self.conv2_drop = nn.Dropout2d(p=dropout)\n",
        "        self.fc1 = nn.Linear(1600, 100) # 1600 = number channels * width * height\n",
        "        self.fc2 = nn.Linear(100, 10)\n",
        "        self.fc1_drop = nn.Dropout(p=dropout)\n",
        "\n",
        "    def forward(self, x):\n",
        "        x = torch.relu(F.max_pool2d(self.conv1(x), 2))\n",
        "        x = torch.relu(F.max_pool2d(self.conv2_drop(self.conv2(x)), 2))\n",
        "        \n",
        "        # flatten over channel, height and width = 1600\n",
        "        x = x.view(-1, x.size(1) * x.size(2) * x.size(3))\n",
        "        \n",
        "        x = torch.relu(self.fc1_drop(self.fc1(x)))\n",
        "        x = torch.softmax(self.fc2(x), dim=-1)\n",
        "        return x"
      ]
    },
    {
      "cell_type": "code",
      "execution_count": 19,
      "metadata": {
        "id": "W8iCagOKdD79"
      },
      "outputs": [],
      "source": [
        "torch.manual_seed(0)\n",
        "\n",
        "cnn = NeuralNetClassifier(\n",
        "    Cnn,\n",
        "    max_epochs=10,\n",
        "    lr=0.002,\n",
        "    optimizer=torch.optim.Adam,\n",
        "    device=device,\n",
        ")"
      ]
    },
    {
      "cell_type": "code",
      "execution_count": 20,
      "metadata": {
        "colab": {
          "base_uri": "https://localhost:8080/"
        },
        "id": "h4VjkjJae9EP",
        "outputId": "1e8a08ce-2be2-45ee-c977-e2d7813d2de0"
      },
      "outputs": [
        {
          "output_type": "stream",
          "name": "stdout",
          "text": [
            "  epoch    train_loss    valid_acc    valid_loss     dur\n",
            "-------  ------------  -----------  ------------  ------\n",
            "      1        \u001b[36m0.4308\u001b[0m       \u001b[32m0.9724\u001b[0m        \u001b[35m0.0857\u001b[0m  5.4909\n",
            "      2        \u001b[36m0.1625\u001b[0m       \u001b[32m0.9795\u001b[0m        \u001b[35m0.0649\u001b[0m  1.5242\n",
            "      3        \u001b[36m0.1350\u001b[0m       \u001b[32m0.9834\u001b[0m        \u001b[35m0.0540\u001b[0m  1.5256\n",
            "      4        \u001b[36m0.1123\u001b[0m       \u001b[32m0.9844\u001b[0m        \u001b[35m0.0498\u001b[0m  1.5075\n",
            "      5        \u001b[36m0.1007\u001b[0m       \u001b[32m0.9856\u001b[0m        \u001b[35m0.0460\u001b[0m  1.5376\n",
            "      6        \u001b[36m0.0951\u001b[0m       \u001b[32m0.9878\u001b[0m        \u001b[35m0.0389\u001b[0m  1.5311\n",
            "      7        \u001b[36m0.0846\u001b[0m       0.9873        0.0408  1.5543\n",
            "      8        \u001b[36m0.0839\u001b[0m       0.9878        0.0393  1.5213\n",
            "      9        \u001b[36m0.0792\u001b[0m       \u001b[32m0.9884\u001b[0m        \u001b[35m0.0372\u001b[0m  1.4761\n",
            "     10        \u001b[36m0.0764\u001b[0m       \u001b[32m0.9885\u001b[0m        0.0373  1.5016\n"
          ]
        }
      ],
      "source": [
        "cnn.fit(XCnn_train, y_train);"
      ]
    },
    {
      "cell_type": "code",
      "execution_count": 23,
      "metadata": {
        "id": "i1srM1rjlav7",
        "colab": {
          "base_uri": "https://localhost:8080/"
        },
        "outputId": "6ece1756-26bb-449b-8f67-1ec93df310a5"
      },
      "outputs": [
        {
          "output_type": "stream",
          "name": "stdout",
          "text": [
            "Accuracy = 98.73142857142857 %\n",
            "Classification Report \n",
            "               precision    recall  f1-score   support\n",
            "\n",
            "           0       0.99      0.99      0.99      1714\n",
            "           1       1.00      0.99      0.99      1977\n",
            "           2       0.98      0.99      0.98      1761\n",
            "           3       1.00      0.99      0.99      1806\n",
            "           4       0.99      0.99      0.99      1587\n",
            "           5       0.99      0.98      0.99      1607\n",
            "           6       0.98      1.00      0.99      1761\n",
            "           7       0.98      0.99      0.98      1878\n",
            "           8       0.98      0.98      0.98      1657\n",
            "           9       0.98      0.98      0.98      1752\n",
            "\n",
            "    accuracy                           0.99     17500\n",
            "   macro avg       0.99      0.99      0.99     17500\n",
            "weighted avg       0.99      0.99      0.99     17500\n",
            "\n"
          ]
        }
      ],
      "source": [
        "y_predicted_cnn = cnn.predict(XCnn_test)\n",
        "# Calculate the accuracy of the prediction\n",
        "from sklearn.metrics import accuracy_score\n",
        "print(\"Accuracy = {} %\".format(accuracy_score(y_test, y_predicted_cnn)*100))\n",
        "# Cross validate the scores\n",
        "from sklearn.metrics import classification_report\n",
        "print(\"Classification Report \\n {}\".format(classification_report(y_test, y_predicted_cnn, labels=range(0,10))))"
      ]
    },
    {
      "cell_type": "code",
      "source": [],
      "metadata": {
        "id": "JOwbrZ0mqQwD"
      },
      "execution_count": null,
      "outputs": []
    }
  ],
  "metadata": {
    "accelerator": "GPU",
    "colab": {
      "collapsed_sections": [],
      "name": "mnist.ipynb",
      "provenance": []
    },
    "kernelspec": {
      "display_name": "Python 3 (ipykernel)",
      "language": "python",
      "name": "python3"
    },
    "language_info": {
      "codemirror_mode": {
        "name": "ipython",
        "version": 3
      },
      "file_extension": ".py",
      "mimetype": "text/x-python",
      "name": "python",
      "nbconvert_exporter": "python",
      "pygments_lexer": "ipython3",
      "version": "3.9.13"
    }
  },
  "nbformat": 4,
  "nbformat_minor": 0
}