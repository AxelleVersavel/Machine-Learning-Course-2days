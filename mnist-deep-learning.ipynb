{
  "cells": [
    {
      "cell_type": "markdown",
      "metadata": {
        "id": "view-in-github",
        "colab_type": "text"
      },
      "source": [
        "<a href=\"https://colab.research.google.com/github/sdgroeve/Machine-Learning-Course-2days/blob/main/mnist-deep-learning.ipynb\" target=\"_parent\"><img src=\"https://colab.research.google.com/assets/colab-badge.svg\" alt=\"Open In Colab\"/></a>"
      ]
    },
    {
      "cell_type": "code",
      "execution_count": 1,
      "metadata": {
        "id": "OYHFXjEzA5kV"
      },
      "outputs": [],
      "source": [
        "import warnings\n",
        "warnings.filterwarnings('ignore')"
      ]
    },
    {
      "cell_type": "markdown",
      "metadata": {
        "id": "n_tuZP6mA5kY"
      },
      "source": [
        "# MNIST digit classification: Deep Learning\n",
        "\n",
        "Let's load the data again:"
      ]
    },
    {
      "cell_type": "code",
      "execution_count": 2,
      "metadata": {
        "id": "ZGJnZj0fLtCU"
      },
      "outputs": [],
      "source": [
        "from sklearn.datasets import fetch_openml\n",
        "from sklearn.preprocessing import MinMaxScaler\n",
        "from sklearn.model_selection import train_test_split\n",
        "\n",
        "mnist = fetch_openml('mnist_784', as_frame=False, cache=False)\n",
        "\n",
        "X = mnist.data.astype('float32')\n",
        "y = mnist.target.astype('int64')\n",
        "\n",
        "X = MinMaxScaler().fit_transform(X)\n",
        "\n",
        "X_train, X_test, y_train, y_test = train_test_split(X, y, test_size=0.25, random_state=42)"
      ]
    },
    {
      "cell_type": "markdown",
      "metadata": {
        "id": "bb5iG7KlA5kb"
      },
      "source": [
        "For Deep Learning we will use the [PyTorch](https://pytorch.org/) library. \n",
        "\n",
        "PyTorch can fit models on a GPU, if available:"
      ]
    },
    {
      "cell_type": "code",
      "execution_count": 3,
      "metadata": {
        "id": "rY5CWPtASO6O",
        "outputId": "0d5b32e4-b6b1-46a3-85c6-fce1bde971a0",
        "colab": {
          "base_uri": "https://localhost:8080/"
        }
      },
      "outputs": [
        {
          "output_type": "stream",
          "name": "stdout",
          "text": [
            "cuda\n"
          ]
        }
      ],
      "source": [
        "import torch\n",
        "from torch import nn\n",
        "import torch.nn.functional as F\n",
        "\n",
        "device = 'cuda' if torch.cuda.is_available() else 'cpu'\n",
        "\n",
        "print(device)"
      ]
    },
    {
      "cell_type": "markdown",
      "metadata": {
        "id": "U5CtmVFMA5kd"
      },
      "source": [
        "## 1. Feed-forward neural network\n",
        "\n",
        "We can now define a neural network with one hidden layer as a class the inherits `nn.Module`. \n",
        "\n",
        "All we need to do is define the `forward()` function:"
      ]
    },
    {
      "cell_type": "code",
      "execution_count": 7,
      "metadata": {
        "id": "uB9LvM1eO3dX"
      },
      "outputs": [],
      "source": [
        "class myNeuralNetwork(nn.Module):\n",
        "    def __init__(\n",
        "            self,\n",
        "            input_dim,\n",
        "            hidden_dim,\n",
        "            output_dim\n",
        "    ):\n",
        "        super(myNeuralNetwork, self).__init__()\n",
        "        self.hidden = nn.Linear(input_dim, hidden_dim)\n",
        "        #self.hidden_2 = nn.Linear(hidden_dim, hidden_dim)\n",
        "        self.output = nn.Linear(hidden_dim, output_dim)\n",
        "\n",
        "    def forward(self, X, **kwargs):\n",
        "        X = F.relu(self.hidden(X))\n",
        "        #X = F.relu(self.hidden_2(X))\n",
        "        #X = F.relu(self.hidden_2(X))\n",
        "        #X = self.dropout(X)\n",
        "        X = F.softmax(self.output(X), dim=-1)\n",
        "        return X"
      ]
    },
    {
      "cell_type": "markdown",
      "metadata": {
        "id": "ad2nbWVpA5ke"
      },
      "source": [
        "The Python skorch library wraps the PyTorch model fitting such that it can be used similarly to Scikit-learn.\n",
        "\n",
        "We can initialize the `myNeuralNetwork` architecture as follows:"
      ]
    },
    {
      "cell_type": "code",
      "execution_count": 8,
      "metadata": {
        "colab": {
          "base_uri": "https://localhost:8080/"
        },
        "id": "4m5fbk7Oo1kM",
        "outputId": "7a177ffe-91d0-4475-84cf-c790079f8bfa"
      },
      "outputs": [
        {
          "output_type": "stream",
          "name": "stdout",
          "text": [
            "Looking in indexes: https://pypi.org/simple, https://us-python.pkg.dev/colab-wheels/public/simple/\n",
            "Requirement already satisfied: skorch in /usr/local/lib/python3.7/dist-packages (0.12.0)\n",
            "Requirement already satisfied: numpy>=1.13.3 in /usr/local/lib/python3.7/dist-packages (from skorch) (1.21.6)\n",
            "Requirement already satisfied: scikit-learn>=0.22.0 in /usr/local/lib/python3.7/dist-packages (from skorch) (1.0.2)\n",
            "Requirement already satisfied: tqdm>=4.14.0 in /usr/local/lib/python3.7/dist-packages (from skorch) (4.64.1)\n",
            "Requirement already satisfied: tabulate>=0.7.7 in /usr/local/lib/python3.7/dist-packages (from skorch) (0.8.10)\n",
            "Requirement already satisfied: scipy>=1.1.0 in /usr/local/lib/python3.7/dist-packages (from skorch) (1.7.3)\n",
            "Requirement already satisfied: joblib>=0.11 in /usr/local/lib/python3.7/dist-packages (from scikit-learn>=0.22.0->skorch) (1.2.0)\n",
            "Requirement already satisfied: threadpoolctl>=2.0.0 in /usr/local/lib/python3.7/dist-packages (from scikit-learn>=0.22.0->skorch) (3.1.0)\n"
          ]
        }
      ],
      "source": [
        "#first we need to install the skorch library\n",
        "!pip install skorch\n",
        "\n",
        "from skorch import NeuralNetClassifier\n",
        "\n",
        "input_dim = 784\n",
        "hidden_dim = 100\n",
        "output_dim = 10\n",
        "\n",
        "net = NeuralNetClassifier(\n",
        "    myNeuralNetwork(input_dim,hidden_dim,output_dim),\n",
        "    max_epochs=20,\n",
        "    lr=0.1, #learning rate\n",
        "    device=device,\n",
        ")"
      ]
    },
    {
      "cell_type": "markdown",
      "metadata": {
        "id": "4HCob9myA5kh"
      },
      "source": [
        "Now we can call the `fit()` function to train the neural network:"
      ]
    },
    {
      "cell_type": "code",
      "execution_count": 9,
      "metadata": {
        "colab": {
          "base_uri": "https://localhost:8080/"
        },
        "id": "RmFlNCXVUZy5",
        "outputId": "0355172a-af92-4939-fd8a-86f2f1b16352"
      },
      "outputs": [
        {
          "output_type": "stream",
          "name": "stdout",
          "text": [
            "  epoch    train_loss    valid_acc    valid_loss     dur\n",
            "-------  ------------  -----------  ------------  ------\n",
            "      1        \u001b[36m0.6817\u001b[0m       \u001b[32m0.8641\u001b[0m        \u001b[35m0.4297\u001b[0m  5.5628\n",
            "      2        \u001b[36m0.3208\u001b[0m       \u001b[32m0.8961\u001b[0m        \u001b[35m0.3396\u001b[0m  1.7509\n",
            "      3        \u001b[36m0.2712\u001b[0m       \u001b[32m0.9141\u001b[0m        \u001b[35m0.2882\u001b[0m  1.1184\n",
            "      4        \u001b[36m0.2367\u001b[0m       \u001b[32m0.9259\u001b[0m        \u001b[35m0.2524\u001b[0m  0.8539\n",
            "      5        \u001b[36m0.2099\u001b[0m       \u001b[32m0.9343\u001b[0m        \u001b[35m0.2259\u001b[0m  0.8254\n",
            "      6        \u001b[36m0.1887\u001b[0m       \u001b[32m0.9402\u001b[0m        \u001b[35m0.2046\u001b[0m  0.8441\n",
            "      7        \u001b[36m0.1715\u001b[0m       \u001b[32m0.9450\u001b[0m        \u001b[35m0.1869\u001b[0m  0.8297\n",
            "      8        \u001b[36m0.1571\u001b[0m       \u001b[32m0.9503\u001b[0m        \u001b[35m0.1728\u001b[0m  0.8229\n",
            "      9        \u001b[36m0.1448\u001b[0m       \u001b[32m0.9528\u001b[0m        \u001b[35m0.1617\u001b[0m  0.8724\n",
            "     10        \u001b[36m0.1342\u001b[0m       \u001b[32m0.9552\u001b[0m        \u001b[35m0.1532\u001b[0m  0.8881\n",
            "     11        \u001b[36m0.1249\u001b[0m       \u001b[32m0.9580\u001b[0m        \u001b[35m0.1458\u001b[0m  0.8136\n",
            "     12        \u001b[36m0.1167\u001b[0m       \u001b[32m0.9594\u001b[0m        \u001b[35m0.1394\u001b[0m  0.8267\n",
            "     13        \u001b[36m0.1094\u001b[0m       \u001b[32m0.9611\u001b[0m        \u001b[35m0.1340\u001b[0m  0.8213\n",
            "     14        \u001b[36m0.1029\u001b[0m       \u001b[32m0.9628\u001b[0m        \u001b[35m0.1294\u001b[0m  0.8295\n",
            "     15        \u001b[36m0.0970\u001b[0m       \u001b[32m0.9642\u001b[0m        \u001b[35m0.1253\u001b[0m  0.8205\n",
            "     16        \u001b[36m0.0916\u001b[0m       \u001b[32m0.9655\u001b[0m        \u001b[35m0.1216\u001b[0m  0.8422\n",
            "     17        \u001b[36m0.0867\u001b[0m       \u001b[32m0.9663\u001b[0m        \u001b[35m0.1185\u001b[0m  0.8162\n",
            "     18        \u001b[36m0.0822\u001b[0m       \u001b[32m0.9671\u001b[0m        \u001b[35m0.1157\u001b[0m  0.8294\n",
            "     19        \u001b[36m0.0781\u001b[0m       \u001b[32m0.9677\u001b[0m        \u001b[35m0.1132\u001b[0m  0.8374\n",
            "     20        \u001b[36m0.0743\u001b[0m       \u001b[32m0.9685\u001b[0m        \u001b[35m0.1109\u001b[0m  0.8303\n"
          ]
        },
        {
          "output_type": "execute_result",
          "data": {
            "text/plain": [
              "<class 'skorch.classifier.NeuralNetClassifier'>[initialized](\n",
              "  module_=myNeuralNetwork(\n",
              "    (hidden): Linear(in_features=784, out_features=100, bias=True)\n",
              "    (output): Linear(in_features=100, out_features=10, bias=True)\n",
              "  ),\n",
              ")"
            ]
          },
          "metadata": {},
          "execution_count": 9
        }
      ],
      "source": [
        "net.fit(X_train, y_train)"
      ]
    },
    {
      "cell_type": "markdown",
      "metadata": {
        "id": "aHracoRrA5ki"
      },
      "source": [
        "We can make prediction using the fitted model as follows:"
      ]
    },
    {
      "cell_type": "code",
      "execution_count": 10,
      "metadata": {
        "colab": {
          "base_uri": "https://localhost:8080/"
        },
        "id": "D4BHrTiEUcMJ",
        "outputId": "258d9ee9-c23d-4eba-f0dc-a20c642dcb0f"
      },
      "outputs": [
        {
          "output_type": "stream",
          "name": "stdout",
          "text": [
            "Accuracy = 96.54285714285714%\n",
            "\n",
            "Classification Report\n",
            "               precision    recall  f1-score   support\n",
            "\n",
            "           0       0.98      0.98      0.98      1714\n",
            "           1       0.97      0.99      0.98      1977\n",
            "           2       0.97      0.96      0.96      1761\n",
            "           3       0.96      0.95      0.96      1806\n",
            "           4       0.96      0.97      0.96      1587\n",
            "           5       0.96      0.97      0.96      1607\n",
            "           6       0.96      0.98      0.97      1761\n",
            "           7       0.97      0.96      0.97      1878\n",
            "           8       0.96      0.95      0.95      1657\n",
            "           9       0.95      0.95      0.95      1752\n",
            "\n",
            "    accuracy                           0.97     17500\n",
            "   macro avg       0.97      0.97      0.97     17500\n",
            "weighted avg       0.97      0.97      0.97     17500\n",
            "\n"
          ]
        }
      ],
      "source": [
        "from sklearn.metrics import accuracy_score\n",
        "from sklearn.metrics import classification_report\n",
        "\n",
        "y_predicted = net.predict(X_test)\n",
        "\n",
        "print(\"Accuracy = {}%\\n\".format(accuracy_score(y_test, y_predicted)*100))\n",
        "\n",
        "print(\"Classification Report\\n {}\".format(classification_report(y_test, y_predicted, labels=range(0,10))))"
      ]
    },
    {
      "cell_type": "markdown",
      "metadata": {
        "id": "kgbgUAIKA5kj"
      },
      "source": [
        "## 2. Convolutional neural network\n",
        "\n",
        "The input of the CNN is the image in 2D, not 1D (flattened) as for the previous neural network.\n",
        "\n",
        "Images can also have channels. For color images there are typically 3 channels: one for red, one for green, and one for blue.\n",
        "For gray-scale images there is just one channel. \n",
        "\n",
        "For the MNIST data we reshape the datasets as follows:"
      ]
    },
    {
      "cell_type": "code",
      "execution_count": 11,
      "metadata": {
        "colab": {
          "base_uri": "https://localhost:8080/"
        },
        "id": "WJfQpp_WU3kK",
        "outputId": "afa4443d-a319-48dc-e54c-ea866a9d76d9"
      },
      "outputs": [
        {
          "output_type": "stream",
          "name": "stdout",
          "text": [
            "(70000, 784)\n",
            "(70000, 1, 28, 28)\n"
          ]
        }
      ],
      "source": [
        "print(X.shape)\n",
        "\n",
        "XCnn = X.reshape(-1, 1, 28, 28)\n",
        "#XCnn = X.reshape(-1, 3, 32, 32)\n",
        "\n",
        "print(XCnn.shape)"
      ]
    },
    {
      "cell_type": "markdown",
      "metadata": {
        "id": "4Q-NGHkbA5kk"
      },
      "source": [
        "Next we create training and test set:"
      ]
    },
    {
      "cell_type": "code",
      "execution_count": 12,
      "metadata": {
        "id": "GdMstC8bbiAX",
        "outputId": "36c2f6a7-f122-42ff-ac80-42a61c8f3ceb",
        "colab": {
          "base_uri": "https://localhost:8080/"
        }
      },
      "outputs": [
        {
          "output_type": "stream",
          "name": "stdout",
          "text": [
            "(52500, 1, 28, 28)\n",
            "(52500,)\n"
          ]
        }
      ],
      "source": [
        "XCnn_train, XCnn_test, y_train, y_test = train_test_split(XCnn, y, test_size=0.25, random_state=42)\n",
        "\n",
        "print(XCnn_train.shape)\n",
        "print(y_train.shape)"
      ]
    },
    {
      "cell_type": "markdown",
      "metadata": {
        "id": "rqG_2ZijA5kl"
      },
      "source": [
        "We define the CNN:"
      ]
    },
    {
      "cell_type": "code",
      "execution_count": 17,
      "metadata": {
        "id": "_NRPKsODcrV2"
      },
      "outputs": [],
      "source": [
        "class myCNN2(nn.Module):\n",
        "    def __init__(self, dropout=0.5):\n",
        "        super(myCNN2, self).__init__()\n",
        "        self.conv1 = nn.Conv2d(1, 32, kernel_size=3)\n",
        "        self.conv2 = nn.Conv2d(32, 64, kernel_size=3)\n",
        "        self.conv2_drop = nn.Dropout2d(p=dropout)\n",
        "        self.fc1 = nn.Linear(1600, 100) # 1600 = number channels * width * height\n",
        "        self.fc2 = nn.Linear(100, 10)\n",
        "        self.fc1_drop = nn.Dropout(p=dropout)\n",
        "\n",
        "    def forward(self, x):\n",
        "        x = torch.relu(F.max_pool2d(self.conv1(x), 2))\n",
        "        x = torch.relu(F.max_pool2d(self.conv2_drop(self.conv2(x)), 2))\n",
        "        \n",
        "        # flatten over channel, height and width = 1600\n",
        "        x = x.view(-1, x.size(1) * x.size(2) * x.size(3))\n",
        "        \n",
        "        x = torch.relu(self.fc1_drop(self.fc1(x)))\n",
        "        x = torch.softmax(self.fc2(x), dim=-1)\n",
        "        return x"
      ]
    },
    {
      "cell_type": "code",
      "execution_count": 14,
      "metadata": {
        "id": "1PhQG4ZvrOA6"
      },
      "outputs": [],
      "source": [
        "class myCNN(nn.Module):\n",
        "    def __init__(self, dropout=0.5):\n",
        "        super(myCNN, self).__init__()\n",
        "        self.conv1 = nn.Conv2d(3, 6, 5)\n",
        "        self.pool = nn.MaxPool2d(2, 2)\n",
        "        self.conv2 = nn.Conv2d(6, 16, 5)\n",
        "        self.fc1 = nn.Linear(16 * 5 * 5, 120)\n",
        "        self.fc2 = nn.Linear(120, 84)\n",
        "        self.fc3 = nn.Linear(84, 10)\n",
        "\n",
        "    def forward(self, x):\n",
        "        x = self.pool(F.relu(self.conv1(x)))\n",
        "        x = self.pool(F.relu(self.conv2(x)))\n",
        "        x = x.view(-1, 16 * 5 * 5)\n",
        "        x = F.relu(self.fc1(x))\n",
        "        x = F.relu(self.fc2(x))\n",
        "        x = F.softmax(self.fc3(x))\n",
        "        return x"
      ]
    },
    {
      "cell_type": "markdown",
      "metadata": {
        "id": "G81hTbMzA5km"
      },
      "source": [
        "Now we can use skorch to wrap the `myCNN` so we can use the `fit()` and `predict()` functions:"
      ]
    },
    {
      "cell_type": "code",
      "execution_count": 18,
      "metadata": {
        "id": "W8iCagOKdD79"
      },
      "outputs": [],
      "source": [
        "cnn = NeuralNetClassifier(\n",
        "    myCNN2,\n",
        "    max_epochs=10,\n",
        "    lr=0.002,\n",
        "    optimizer=torch.optim.Adam,\n",
        "    device=device,\n",
        ")"
      ]
    },
    {
      "cell_type": "code",
      "execution_count": 19,
      "metadata": {
        "colab": {
          "base_uri": "https://localhost:8080/"
        },
        "id": "h4VjkjJae9EP",
        "outputId": "d7a0b590-d0d0-4b51-87f5-fb5e85845b76"
      },
      "outputs": [
        {
          "output_type": "stream",
          "name": "stdout",
          "text": [
            "  epoch    train_loss    valid_acc    valid_loss     dur\n",
            "-------  ------------  -----------  ------------  ------\n",
            "      1        \u001b[36m0.5239\u001b[0m       \u001b[32m0.9668\u001b[0m        \u001b[35m0.1130\u001b[0m  5.7581\n",
            "      2        \u001b[36m0.2011\u001b[0m       \u001b[32m0.9774\u001b[0m        \u001b[35m0.0756\u001b[0m  1.4908\n",
            "      3        \u001b[36m0.1596\u001b[0m       \u001b[32m0.9807\u001b[0m        \u001b[35m0.0633\u001b[0m  1.4805\n",
            "      4        \u001b[36m0.1372\u001b[0m       \u001b[32m0.9841\u001b[0m        \u001b[35m0.0546\u001b[0m  1.4876\n",
            "      5        \u001b[36m0.1213\u001b[0m       \u001b[32m0.9850\u001b[0m        \u001b[35m0.0504\u001b[0m  1.4752\n",
            "      6        \u001b[36m0.1105\u001b[0m       \u001b[32m0.9851\u001b[0m        \u001b[35m0.0492\u001b[0m  1.4841\n",
            "      7        \u001b[36m0.1004\u001b[0m       \u001b[32m0.9875\u001b[0m        \u001b[35m0.0423\u001b[0m  1.4808\n",
            "      8        \u001b[36m0.0980\u001b[0m       0.9871        \u001b[35m0.0414\u001b[0m  1.5139\n",
            "      9        \u001b[36m0.0898\u001b[0m       \u001b[32m0.9891\u001b[0m        \u001b[35m0.0373\u001b[0m  1.4646\n",
            "     10        \u001b[36m0.0850\u001b[0m       \u001b[32m0.9896\u001b[0m        \u001b[35m0.0363\u001b[0m  1.4665\n"
          ]
        },
        {
          "output_type": "execute_result",
          "data": {
            "text/plain": [
              "<class 'skorch.classifier.NeuralNetClassifier'>[initialized](\n",
              "  module_=myCNN2(\n",
              "    (conv1): Conv2d(1, 32, kernel_size=(3, 3), stride=(1, 1))\n",
              "    (conv2): Conv2d(32, 64, kernel_size=(3, 3), stride=(1, 1))\n",
              "    (conv2_drop): Dropout2d(p=0.5, inplace=False)\n",
              "    (fc1): Linear(in_features=1600, out_features=100, bias=True)\n",
              "    (fc2): Linear(in_features=100, out_features=10, bias=True)\n",
              "    (fc1_drop): Dropout(p=0.5, inplace=False)\n",
              "  ),\n",
              ")"
            ]
          },
          "metadata": {},
          "execution_count": 19
        }
      ],
      "source": [
        "cnn.fit(XCnn_train, y_train)"
      ]
    },
    {
      "cell_type": "code",
      "execution_count": 20,
      "metadata": {
        "colab": {
          "base_uri": "https://localhost:8080/"
        },
        "id": "i1srM1rjlav7",
        "outputId": "44443045-823e-4515-fdca-9babc8058444"
      },
      "outputs": [
        {
          "output_type": "stream",
          "name": "stdout",
          "text": [
            "Accuracy = 98.68571428571428%\n",
            "\n",
            "Classification Report\n",
            "               precision    recall  f1-score   support\n",
            "\n",
            "           0       1.00      0.99      0.99      1714\n",
            "           1       0.99      0.99      0.99      1977\n",
            "           2       0.98      0.99      0.98      1761\n",
            "           3       0.99      0.99      0.99      1806\n",
            "           4       0.98      0.99      0.99      1587\n",
            "           5       0.99      0.98      0.98      1607\n",
            "           6       0.99      0.99      0.99      1761\n",
            "           7       0.99      0.98      0.99      1878\n",
            "           8       0.98      0.98      0.98      1657\n",
            "           9       0.99      0.98      0.98      1752\n",
            "\n",
            "    accuracy                           0.99     17500\n",
            "   macro avg       0.99      0.99      0.99     17500\n",
            "weighted avg       0.99      0.99      0.99     17500\n",
            "\n"
          ]
        }
      ],
      "source": [
        "from sklearn.metrics import accuracy_score\n",
        "from sklearn.metrics import classification_report\n",
        "\n",
        "y_predicted_cnn = cnn.predict(XCnn_test)\n",
        "\n",
        "print(\"Accuracy = {}%\\n\".format(accuracy_score(y_test, y_predicted_cnn)*100))\n",
        "\n",
        "print(\"Classification Report\\n {}\".format(classification_report(y_test, y_predicted_cnn, labels=range(0,10))))"
      ]
    },
    {
      "cell_type": "code",
      "execution_count": null,
      "metadata": {
        "id": "JOwbrZ0mqQwD"
      },
      "outputs": [],
      "source": []
    }
  ],
  "metadata": {
    "accelerator": "GPU",
    "colab": {
      "collapsed_sections": [],
      "name": "mnist.ipynb",
      "provenance": [],
      "include_colab_link": true
    },
    "gpuClass": "standard",
    "kernelspec": {
      "display_name": "Python 3 (ipykernel)",
      "language": "python",
      "name": "python3"
    },
    "language_info": {
      "codemirror_mode": {
        "name": "ipython",
        "version": 3
      },
      "file_extension": ".py",
      "mimetype": "text/x-python",
      "name": "python",
      "nbconvert_exporter": "python",
      "pygments_lexer": "ipython3",
      "version": "3.9.13"
    }
  },
  "nbformat": 4,
  "nbformat_minor": 0
}